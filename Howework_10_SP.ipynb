{
 "cells": [
  {
   "cell_type": "code",
   "execution_count": null,
   "id": "a5adc246-cd69-4b29-aa36-85fd946a58f5",
   "metadata": {},
   "outputs": [],
   "source": [
    "def read_json_from_s3(bucket: str, key: str) -> dict:\n",
    "    \"\"\"\n",
    "    Reads a JSON file from an S3 bucket and loads it into a Python dictionary.\n",
    "\n",
    "    Args:\n",
    "        bucket (str): The name of the S3 bucket where the JSON file is stored.\n",
    "        key (str): The S3 key (path) to the JSON file within the bucket.\n",
    "\n",
    "    Returns:\n",
    "        dict: The parsed JSON content from the file as a Python dictionary.\n",
    "    \"\"\"\n",
    "    s3 = boto3.client('s3')\n",
    "    response = s3.get_object(Bucket=bucket, Key=key)\n",
    "    content = response['Body']\n",
    "    json_data = json.loads(content.read())\n",
    "    return json_data"
   ]
  },
  {
   "cell_type": "code",
   "execution_count": null,
   "id": "5e2e0d7a-21d0-44ae-924d-ec3bfa8a1fbf",
   "metadata": {},
   "outputs": [],
   "source": [
    "taxi_trips_data_json = read_json_from_s3(bucket=bucket, key=taxi_trips_key)"
   ]
  },
  {
   "cell_type": "code",
   "execution_count": null,
   "id": "22d873e3-7aea-49c7-80f9-7265c42b0397",
   "metadata": {},
   "outputs": [],
   "source": [
    "weather_data_json = read_json_from_s3(bucket=bucket, key=weather_key)"
   ]
  }
 ],
 "metadata": {
  "kernelspec": {
   "display_name": "Python 3 (ipykernel)",
   "language": "python",
   "name": "python3"
  },
  "language_info": {
   "codemirror_mode": {
    "name": "ipython",
    "version": 3
   },
   "file_extension": ".py",
   "mimetype": "text/x-python",
   "name": "python",
   "nbconvert_exporter": "python",
   "pygments_lexer": "ipython3",
   "version": "3.12.7"
  }
 },
 "nbformat": 4,
 "nbformat_minor": 5
}
